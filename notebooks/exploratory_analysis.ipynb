{
 "cells": [
  {
   "cell_type": "code",
   "execution_count": 2,
   "id": "e576c209",
   "metadata": {},
   "outputs": [
    {
     "name": "stdout",
     "output_type": "stream",
     "text": [
      "Hello from my ML environment!\n",
      "Pandas version: 2.3.2\n"
     ]
    }
   ],
   "source": [
    "import pandas as pd\n",
    "print(\"Hello from my ML environment!\")\n",
    "print(f\"Pandas version: {pd.__version__}\")"
   ]
  },
  {
   "cell_type": "code",
   "execution_count": 7,
   "id": "e1063c4e",
   "metadata": {},
   "outputs": [
    {
     "name": "stdout",
     "output_type": "stream",
     "text": [
      "9999999\n"
     ]
    }
   ],
   "source": [
    "import pandas as pd\n",
    "\n",
    "pd.options.display.max_rows = 9999999\n",
    "print(pd.options.display.max_rows)"
   ]
  },
  {
   "cell_type": "code",
   "execution_count": 11,
   "id": "adce5a11",
   "metadata": {},
   "outputs": [
    {
     "name": "stdout",
     "output_type": "stream",
     "text": [
      "    Name  Height in cm  No of cocks\n",
      "0  Roger           150            1\n",
      "1    Tim           160            1\n",
      "2  Jason           190            5\n"
     ]
    }
   ],
   "source": [
    "import pandas as pd\n",
    "\n",
    "data = {\n",
    "    \"Name\": {\n",
    "        \"0\":\"Roger\",\n",
    "        \"1\":\"Tim\",\n",
    "        \"2\":\"Jason\"\n",
    "    },\n",
    "\n",
    "    \"Height in cm\": {\n",
    "        \"0\": 150,\n",
    "        \"1\": 160,\n",
    "        \"2\": 190\n",
    "    },\n",
    "\n",
    "    \"No of cocks\": {\n",
    "        \"0\":1,\n",
    "        \"1\":1,\n",
    "        \"2\":5\n",
    "    }\n",
    "}\n",
    "\n",
    "df = pd.DataFrame(data)\n",
    "print(df)"
   ]
  },
  {
   "cell_type": "code",
   "execution_count": 5,
   "id": "24f7aeec",
   "metadata": {},
   "outputs": [
    {
     "name": "stdout",
     "output_type": "stream",
     "text": [
      "(170, 4)\n",
      "     Duration  Pulse  Maxpulse  Calories\n",
      "0          60    110       130     409.1\n",
      "1          60    117       145     479.0\n",
      "2          60    117       145     479.0\n",
      "3          60    103       135     340.0\n",
      "4          45    109       175     282.4\n",
      "5          45    117       148     406.0\n",
      "6          60    102       127     300.0\n",
      "7          60    110       136     374.0\n",
      "8          45    104       134     253.3\n",
      "9          30    109       133     195.1\n",
      "10         60     98       124     269.0\n",
      "11         60    103       147     329.3\n",
      "12         60    100       120     250.7\n",
      "13         60    106       128     345.3\n",
      "14         60    104       132     379.3\n",
      "15         60     98       123     275.0\n",
      "16         60     98       120     215.2\n",
      "17         60    100       120     300.0\n",
      "18         45     90       112       NaN\n",
      "19         60    103       123     323.0\n",
      "20         45     97       125     243.0\n",
      "21         60    108       131     364.2\n",
      "22         45    100       119     282.0\n",
      "23         60    130       101     300.0\n",
      "24         45    105       132     246.0\n",
      "25         60    102       126     334.5\n",
      "26         60    100       120     250.0\n",
      "27         60     92       118     241.0\n",
      "28         60    103       132       NaN\n",
      "29         60    100       132     280.0\n",
      "30         60    102       129     380.3\n",
      "31         60     92       115     243.0\n",
      "32         45     90       112     180.1\n",
      "33         60    101       124     299.0\n",
      "34         60     93       113     223.0\n",
      "35         60    107       136     361.0\n",
      "36         60    114       140     415.0\n",
      "37         60    102       127     300.0\n",
      "38         60    100       120     300.0\n",
      "39         60    100       120     300.0\n",
      "40         45    104       129     266.0\n",
      "41         45     90       112     180.1\n",
      "42         60     98       126     286.0\n",
      "43         60    100       122     329.4\n",
      "44         60    111       138     400.0\n",
      "45         60    111       131     397.0\n",
      "46         60     99       119     273.0\n",
      "47         60    109       153     387.6\n",
      "48         45    111       136     300.0\n",
      "49         45    108       129     298.0\n",
      "50         60    111       139     397.6\n",
      "51         60    107       136     380.2\n",
      "52         80    123       146     643.1\n",
      "53         60    106       130     263.0\n",
      "54         60    118       151     486.0\n",
      "55         30    136       175     238.0\n",
      "56         60    121       146     450.7\n",
      "57         60    118       121     413.0\n",
      "58         45    115       144     305.0\n",
      "59         20    153       172     226.4\n",
      "60         45    123       152     321.0\n",
      "61        210    108       160    1376.0\n",
      "62        160    110       137    1034.4\n",
      "63        160    109       135     853.0\n",
      "64         45    118       141     341.0\n",
      "65         20    110       130     131.4\n",
      "66        180     90       130     800.4\n",
      "67        150    105       135     873.4\n",
      "68        150    107       130     816.0\n",
      "69         20    106       136     110.4\n",
      "70        300    108       143    1500.2\n",
      "71        150     97       129    1115.0\n",
      "72         60    109       153     387.6\n",
      "73         90    100       127     700.0\n",
      "74        150     97       127     953.2\n",
      "75         45    114       146     304.0\n",
      "76         90     98       125     563.2\n",
      "77         45    105       134     251.0\n",
      "78         45    110       141     300.0\n",
      "79        120    100       130     500.4\n",
      "80        270    100       131    1729.0\n",
      "81         30    159       182     319.2\n",
      "82         45    149       169     344.0\n",
      "83         30    103       139     151.1\n",
      "84        120    100       130     500.0\n",
      "85         45    100       120     225.3\n",
      "86         30    151       170     300.0\n",
      "87         45    102       136     234.0\n",
      "88        120    100       157    1000.1\n",
      "89         45    129       103     242.0\n",
      "90         20     83       107      50.3\n",
      "91        180    101       127     600.1\n",
      "92         45    107       137       NaN\n",
      "93         30     90       107     105.3\n",
      "94         15     80       100      50.5\n",
      "95         20    150       171     127.4\n",
      "96         20    151       168     229.4\n",
      "97         30     95       128     128.2\n",
      "98         25    152       168     244.2\n",
      "99         30    109       131     188.2\n",
      "100        90     93       124     604.1\n",
      "101        20     95       112      77.7\n",
      "102        90     90       110     500.0\n",
      "103        90     90       100     500.0\n",
      "104        90     90       100     500.4\n",
      "105        30     92       108      92.7\n",
      "106        30     93       128     124.0\n",
      "107       180     90       120     800.3\n",
      "108        30     90       120      86.2\n",
      "109        90     90       120     500.3\n",
      "110       210    137       184    1860.4\n",
      "111        60    102       124     325.2\n",
      "112        45    107       124     275.0\n",
      "113        15    124       139     124.2\n",
      "114        45    100       120     225.3\n",
      "115        60    108       131     367.6\n",
      "116        60    108       151     351.7\n",
      "117        60    116       141     443.0\n",
      "118        60     97       122     277.4\n",
      "119        60    105       125       NaN\n",
      "120        60    103       124     332.7\n",
      "121        30    112       137     193.9\n",
      "122        45    100       120     100.7\n",
      "123        60    119       169     336.7\n",
      "124        60    107       127     344.9\n",
      "125        60    111       151     368.5\n",
      "126        60     98       122     271.0\n",
      "127        60     97       124     275.3\n",
      "128        60    109       127     382.0\n",
      "129        90     99       125     466.4\n",
      "130        60    114       151     384.0\n",
      "131        60    104       134     342.5\n",
      "132        60    107       138     357.5\n",
      "133        60    103       133     335.0\n",
      "134        60    106       132     327.5\n",
      "135        60    103       136     339.0\n",
      "136        20    136       156     189.0\n",
      "137        45    117       143     317.7\n",
      "138        45    115       137     318.0\n",
      "139        45    113       138     308.0\n",
      "140        20    141       162     222.4\n",
      "141        60    108       135     390.0\n",
      "142        60     97       127       NaN\n",
      "143        45    100       120     250.4\n",
      "144        45    122       149     335.4\n",
      "145        60    136       170     470.2\n",
      "146        45    106       126     270.8\n",
      "147        60    107       136     400.0\n",
      "148        60    112       146     361.9\n",
      "149        30    103       127     185.0\n",
      "150        60    110       150     409.4\n",
      "151        60    106       134     343.0\n",
      "152        60    109       129     353.2\n",
      "153        60    109       138     374.0\n",
      "154        30    150       167     275.8\n",
      "155        60    105       128     328.0\n",
      "156        60    111       151     368.5\n",
      "157        60     97       131     270.4\n",
      "158        60    100       120     270.4\n",
      "159        60    114       150     382.8\n",
      "160        30     80       120     240.9\n",
      "161        30     85       120     250.4\n",
      "162        45     90       130     260.4\n",
      "163        45     95       130     270.0\n",
      "164        45    100       140     280.9\n",
      "165        60    105       140     290.8\n",
      "166        60    110       145     300.0\n",
      "167        60    115       145     310.2\n",
      "168        75    120       150     320.4\n",
      "169        75    125       150     330.4\n"
     ]
    }
   ],
   "source": [
    "import pandas as pd\n",
    "df = pd.read_csv('C:/Users/HP/Downloads/data.csv')\n",
    "print(df.shape)\n",
    "pd.options.display.max_rows = 9999\n",
    "print(df.to_string())"
   ]
  },
  {
   "cell_type": "code",
   "execution_count": 43,
   "id": "16725af4",
   "metadata": {},
   "outputs": [
    {
     "name": "stdout",
     "output_type": "stream",
     "text": [
      "   Duration  Pulse  Maxpulse  Calories\n",
      "0        60    110       130     409.1\n",
      "1        60    117       145     479.0\n",
      "2        60    117       145     479.0\n",
      "3        60    103       135     340.0\n",
      "4        45    109       175     282.4\n",
      "     Duration  Pulse  Maxpulse  Calories\n",
      "165        60    105       140     290.8\n",
      "166        60    110       145     300.0\n",
      "167        60    115       145     310.2\n",
      "168        75    120       150     320.4\n",
      "169        75    125       150     330.4\n"
     ]
    }
   ],
   "source": [
    "import pandas as pd\n",
    "df = pd.read_csv('C:/Users/HP/Downloads/data.csv')\n",
    "print(df.head(5))\n",
    "print(df.tail(5))\n"
   ]
  },
  {
   "cell_type": "code",
   "execution_count": null,
   "id": "7c928e88",
   "metadata": {},
   "outputs": [
    {
     "name": "stdout",
     "output_type": "stream",
     "text": [
      "     Duration  Pulse  Maxpulse  Calories\n",
      "0          60    110       130     409.1\n",
      "1          60    117       145     479.0\n",
      "2          60    117       145     479.0\n",
      "3          60    103       135     340.0\n",
      "4          45    109       175     282.4\n",
      "..        ...    ...       ...       ...\n",
      "165        60    105       140     290.8\n",
      "166        60    110       145     300.0\n",
      "167        60    115       145     310.2\n",
      "168        75    120       150     320.4\n",
      "169        75    125       150     330.4\n",
      "\n",
      "[165 rows x 4 columns]\n"
     ]
    }
   ],
   "source": [
    "\n",
    "import pandas as pd\n",
    "\n",
    "df = pd.read_csv('C:/Users/HP/Downloads/data.csv')\n",
    "df.dropna(inplace = True) #to remove emply cells\n",
    "print(df)"
   ]
  },
  {
   "cell_type": "code",
   "execution_count": 4,
   "id": "9c373487",
   "metadata": {},
   "outputs": [
    {
     "name": "stdout",
     "output_type": "stream",
     "text": [
      "0      False\n",
      "1      False\n",
      "3      False\n",
      "4      False\n",
      "5      False\n",
      "       ...  \n",
      "165    False\n",
      "166    False\n",
      "167    False\n",
      "168    False\n",
      "169    False\n",
      "Length: 157, dtype: bool\n",
      "     Duration  Pulse  Maxpulse  Calories\n",
      "0          60    110       130     409.1\n",
      "1          60    117       145     479.0\n",
      "3          60    103       135     340.0\n",
      "4          45    109       175     282.4\n",
      "5          45    117       148     406.0\n",
      "..        ...    ...       ...       ...\n",
      "165        60    105       140     290.8\n",
      "166        60    110       145     300.0\n",
      "167        60    115       145     310.2\n",
      "168        75    120       150     320.4\n",
      "169        75    125       150     330.4\n",
      "\n",
      "[157 rows x 4 columns]\n"
     ]
    }
   ],
   "source": [
    "print(df.duplicated())\n",
    "df.drop_duplicates(inplace=True)\n",
    "print(df)"
   ]
  },
  {
   "cell_type": "code",
   "execution_count": 21,
   "id": "bf702be6",
   "metadata": {},
   "outputs": [
    {
     "data": {
      "image/png": "[encoded data removed]",
      "text/plain": [
       "<Figure size 640x480 with 1 Axes>"
      ]
     },
     "metadata": {},
     "output_type": "display_data"
    }
   ],
   "source": [
    "import matplotlib.pyplot as plt\n",
    "\n",
    "plt.hist(df, 10)\n",
    "plt.show()"
   ]
  },
  {
   "cell_type": "code",
   "execution_count": 27,
   "id": "3eb7a9fe",
   "metadata": {},
   "outputs": [
    {
     "data": {
      "image/png": "[encoded data removed]",
      "text/plain": [
       "<Figure size 640x480 with 1 Axes>"
      ]
     },
     "metadata": {},
     "output_type": "display_data"
    }
   ],
   "source": [
    "import numpy\n",
    "#import matplotlib.pylab as plt\n",
    "\n",
    "x = numpy.random.uniform(10.0, 1.0, 200)\n",
    "y = numpy.random.normal(5.0, 1.0, 200)\n",
    "\n",
    "plt.scatter(x, y)\n",
    "plt.show()\n"
   ]
  },
  {
   "cell_type": "code",
   "execution_count": null,
   "id": "86dbd891",
   "metadata": {},
   "outputs": [
    {
     "data": {
      "image/png": "[encoded data removed]",
      "text/plain": [
       "<Figure size 640x480 with 1 Axes>"
      ]
     },
     "metadata": {},
     "output_type": "display_data"
    },
    {
     "name": "stdout",
     "output_type": "stream",
     "text": [
      "-0.758591524376155\n",
      "85.59308314937454\n"
     ]
    }
   ],
   "source": [
    "from scipy import stats\n",
    "\n",
    "carAge = [5,7,8,7,2,17,2,9,4,11,12,9,6]\n",
    "carSpeed = [99,86,87,88,111,86,103,87,94,78,77,85,86]\n",
    "\n",
    "slope, intercept, r, p, std_err = stats.linregress(carAge, carSpeed)\n",
    "\n",
    "def myfunc(x):\n",
    "    return slope * x + intercept\n",
    "\n",
    "mymodel = list(map(myfunc, carAge))\n",
    "\n",
    "plt.scatter(carAge, carSpeed)\n",
    "plt.plot(carAge, mymodel)\n",
    "plt.show()\n",
    "print(r)\n",
    "\n",
    "speed = myfunc(10)\n",
    "print(speed)"
   ]
  },
  {
   "cell_type": "code",
   "execution_count": 12,
   "id": "2f8ccb81",
   "metadata": {},
   "outputs": [
    {
     "name": "stdout",
     "output_type": "stream",
     "text": [
      "0.9432150416451027\n",
      "95.5121711316889\n"
     ]
    }
   ],
   "source": [
    "import matplotlib.pyplot as plt\n",
    "import numpy\n",
    "from sklearn.metrics import r2_score\n",
    "\n",
    "x = [1,2,3,5,6,7,8,9,10,12,13,14,15,16,18,19,21,22]\n",
    "y = [100,90,80,60,60,55,60,65,70,70,75,76,78,79,90,99,99,100]\n",
    "\n",
    "mymodel = numpy.poly1d(numpy.polyfit(x, y, 3))\n",
    "myline = numpy.linspace(1, 22, 100)\n",
    "\n",
    "print(r2_score(y, mymodel(x)))\n",
    "\n",
    "plt.scatter(x, y)\n",
    "plt.plot(myline, mymodel(myline))\n",
    "plt.show()\n",
    "\n",
    "speed = mymodel(19)\n",
    "print(speed)"
   ]
  },
  {
   "cell_type": "code",
   "execution_count": 15,
   "id": "eef4214f",
   "metadata": {},
   "outputs": [
    {
     "name": "stdout",
     "output_type": "stream",
     "text": [
      "0.45359236999999997\n",
      "31536000.0\n"
     ]
    }
   ],
   "source": [
    "from scipy import constants\n",
    "print(constants.lb)\n",
    "print(constants.year)"
   ]
  },
  {
   "cell_type": "code",
   "execution_count": 13,
   "id": "b589daae",
   "metadata": {},
   "outputs": [
    {
     "data": {
      "image/png": "[encoded data removed]",
      "text/plain": [
       "<Figure size 640x480 with 1 Axes>"
      ]
     },
     "metadata": {},
     "output_type": "display_data"
    }
   ],
   "source": [
    "%matplotlib inline\n",
    "\n",
    "import numpy\n",
    "import matplotlib.pyplot as plt\n",
    "numpy.random.seed(2)\n",
    "\n",
    "x = numpy.random.normal(3, 1, 100)\n",
    "y = numpy.random.normal(150, 40, 100) / x\n",
    "\n",
    "train_x = x[:80]\n",
    "train_y = y[:80]\n",
    "\n",
    "test_x = x[80:]\n",
    "test_y = y[80:]\n",
    "\n",
    "plt.scatter(train_x, train_y)\n",
    "plt.show()\n",
    "\n",
    "\n"
   ]
  },
  {
   "cell_type": "code",
   "execution_count": 20,
   "id": "f430944e",
   "metadata": {},
   "outputs": [
    {
     "data": {
      "image/png": "[encoded data removed]",
      "text/plain": [
       "<Figure size 640x480 with 1 Axes>"
      ]
     },
     "metadata": {},
     "output_type": "display_data"
    },
    {
     "name": "stdout",
     "output_type": "stream",
     "text": [
      "0.7988645544629798\n",
      "22.879625918122656\n"
     ]
    }
   ],
   "source": [
    "import numpy\n",
    "import matplotlib.pyplot as plt\n",
    "from sklearn.metrics import r2_score\n",
    "numpy.random.seed(2)\n",
    "\n",
    "x = numpy.random.normal(3, 1, 100)\n",
    "y = numpy.random.normal(150, 40, 100) / x\n",
    "\n",
    "train_x = x[:80]\n",
    "train_y = y[:80]\n",
    "\n",
    "test_x = x[80:]\n",
    "test_y = y[80:]\n",
    "\n",
    "mymodel = numpy.poly1d(numpy.polyfit(train_x, train_y, 4))\n",
    "\n",
    "myline = numpy.linspace(0, 6, 100)\n",
    "\n",
    "r2 = r2_score(train_y, mymodel(train_x))\n",
    "\n",
    "plt.scatter(train_x, train_y)\n",
    "plt.plot(myline, mymodel(myline))\n",
    "plt.show()\n",
    "\n",
    "print(r2)\n",
    "\n",
    "print(mymodel(5))"
   ]
  }
 ],
 "metadata": {
  "kernelspec": {
   "display_name": "ml-env",
   "language": "python",
   "name": "python3"
  },
  "language_info": {
   "codemirror_mode": {
    "name": "ipython",
    "version": 3
   },
   "file_extension": ".py",
   "mimetype": "text/x-python",
   "name": "python",
   "nbconvert_exporter": "python",
   "pygments_lexer": "ipython3",
   "version": "3.9.23"
  }
 },
 "nbformat": 4,
 "nbformat_minor": 5
}
